{
  "cells": [
    {
      "cell_type": "code",
      "execution_count": 13,
      "metadata": {
        "id": "e5mz5L6PNTl9"
      },
      "outputs": [],
      "source": [
        "import torch\n",
        "from torchvision import datasets, transforms\n",
        "from torch.utils.data import DataLoader, Subset\n",
        "import matplotlib\n",
        "import matplotlib.pyplot as plt\n",
        "import os\n",
        "\n",
        "matplotlib.style.use('ggplot')\n",
        "# Required constants.\n",
        "ROOT_DIR = '/media/dinh/New Volume/DAP_prj'\n",
        "VALID_SPLIT = 0.1\n",
        "IMAGE_SIZE = 224 # Image size of resize when applying transforms.\n",
        "BATCH_SIZE = 16\n",
        "NUM_WORKERS = 8 # Number of parallel processes for data preparation."
      ]
    },
    {
      "cell_type": "code",
      "execution_count": 14,
      "metadata": {
        "id": "aSNWXnigNLV1"
      },
      "outputs": [],
      "source": [
        "def save_model(epoch, model, optimizer, train_loss, valid_loss, train_epoch_acc, valid_epoch_acc, pretrained, finetune):\n",
        "    \"\"\"\n",
        "    Function to save the trained model to disk.\n",
        "    \"\"\"\n",
        "    torch.save({\n",
        "                'epoch': epoch,\n",
        "                'pretrained': pretrained,\n",
        "                'finetune': finetune,\n",
        "                'model_state_dict': model.state_dict(),\n",
        "                'optimizer_state_dict': optimizer.state_dict(),\n",
        "                'train_loss': train_loss,\n",
        "                'valid_loss': valid_loss,\n",
        "                'train_acc': train_epoch_acc,\n",
        "                'valid_acc': valid_epoch_acc,\n",
        "                }, f\"{ROOT_DIR}/outputs/model_pretrained_best_valid_acc.pth\")"
      ]
    },
    {
      "cell_type": "code",
      "execution_count": 15,
      "metadata": {
        "id": "vZC0pjQGNQxJ"
      },
      "outputs": [],
      "source": [
        "def save_plots(train_acc, valid_acc, train_loss, valid_loss, pretrained):\n",
        "    \"\"\"\n",
        "    Function to save the loss and accuracy plots to disk.\n",
        "    \"\"\"\n",
        "    # accuracy plots\n",
        "    plt.figure(figsize=(10, 7))\n",
        "    plt.plot(\n",
        "        train_acc, color='green', linestyle='-', \n",
        "        label='train accuracy'\n",
        "    )\n",
        "    plt.plot(\n",
        "        valid_acc, color='blue', linestyle='-', \n",
        "        label='validataion accuracy'\n",
        "    )\n",
        "    plt.xlabel('Epochs')\n",
        "    plt.ylabel('Accuracy')\n",
        "    plt.legend()\n",
        "    plt.savefig(f\"{ROOT_DIR}/outputs/accuracy_pretrained_{pretrained}.png\")\n",
        "    \n",
        "    # loss plots\n",
        "    plt.figure(figsize=(10, 7))\n",
        "    plt.plot(\n",
        "        train_loss, color='orange', linestyle='-', \n",
        "        label='train loss'\n",
        "    )\n",
        "    plt.plot(\n",
        "        valid_loss, color='red', linestyle='-', \n",
        "        label='validataion loss'\n",
        "    )\n",
        "    plt.xlabel('Epochs')\n",
        "    plt.ylabel('Loss')\n",
        "    plt.legend()\n",
        "    plt.savefig(f\"{ROOT_DIR}/outputs/loss_pretrained_{pretrained}.png\")"
      ]
    },
    {
      "cell_type": "code",
      "execution_count": 16,
      "metadata": {
        "id": "6DYFLOw4NZ9J"
      },
      "outputs": [],
      "source": [
        "# Training transforms\n",
        "def get_train_transform(IMAGE_SIZE, pretrained):\n",
        "    train_transform = transforms.Compose([\n",
        "        transforms.Resize((IMAGE_SIZE, IMAGE_SIZE)),\n",
        "        transforms.RandomHorizontalFlip(p=0.5),\n",
        "        transforms.GaussianBlur(kernel_size=(5, 9), sigma=(0.1, 5)),\n",
        "        transforms.RandomAdjustSharpness(sharpness_factor=2, p=0.5),\n",
        "        transforms.ToTensor(),\n",
        "        normalize_transform(pretrained)\n",
        "    ])\n",
        "    return train_transform\n",
        "# Validation transforms\n",
        "def get_valid_transform(IMAGE_SIZE, pretrained):\n",
        "    valid_transform = transforms.Compose([\n",
        "        transforms.Resize((IMAGE_SIZE, IMAGE_SIZE)),\n",
        "        transforms.ToTensor(),\n",
        "        normalize_transform(pretrained)\n",
        "    ])\n",
        "    return valid_transform\n",
        "# Image normalization transforms.\n",
        "def normalize_transform(pretrained):\n",
        "    if pretrained: # Normalization for pre-trained weights.\n",
        "        normalize = transforms.Normalize(\n",
        "            mean=[0.485, 0.456, 0.406],\n",
        "            std=[0.229, 0.224, 0.225]\n",
        "            )\n",
        "    else: # Normalization when training from scratch.\n",
        "        normalize = transforms.Normalize(\n",
        "            mean=[0.5, 0.5, 0.5],\n",
        "            std=[0.5, 0.5, 0.5]\n",
        "        )\n",
        "    return normalize"
      ]
    },
    {
      "cell_type": "code",
      "execution_count": 17,
      "metadata": {
        "id": "Xz0wghE5NzAN"
      },
      "outputs": [],
      "source": [
        "def get_datasets(pretrained):\n",
        "    \"\"\"\n",
        "    Function to prepare the Datasets.\n",
        "    :param pretrained: Boolean, True or False.\n",
        "    Returns the training and validation datasets along \n",
        "    with the class names.\n",
        "    \"\"\"\n",
        "    dataset = datasets.ImageFolder(\n",
        "        os.path.join(ROOT_DIR,'archive'), \n",
        "        transform=(get_train_transform(IMAGE_SIZE, pretrained))\n",
        "    )\n",
        "    dataset_valid_test = datasets.ImageFolder(\n",
        "        os.path.join(ROOT_DIR,'archive'), \n",
        "        transform=(get_valid_transform(IMAGE_SIZE, pretrained))\n",
        "    )\n",
        "    dataset_size = len(dataset)\n",
        "    # Calculate the validation dataset size.\n",
        "    valid_size = int(VALID_SPLIT*dataset_size*2)\n",
        "    # Radomize the data indices.\n",
        "    if os.path.exists(os.path.join(ROOT_DIR,\"shuffle_array.pth\")):\n",
        "        print(\"Loading older shuffle array\")\n",
        "        indices = torch.load(os.path.join(ROOT_DIR,\"shuffle_array.pth\"))\n",
        "    else:\n",
        "        indices = torch.randperm(len(dataset)).tolist()\n",
        "        torch.save(indices, os.path.join(ROOT_DIR,\"shuffle_array.pth\"))\n",
        "    # Training and validation sets.\n",
        "    dataset_train = Subset(dataset, indices[:-valid_size*2])\n",
        "    dataset_valid = Subset(dataset_valid_test, indices[-valid_size*2:-valid_size])\n",
        "    dataset_test = Subset(dataset_valid_test, indices[-valid_size:])\n",
        "    return dataset_train, dataset_valid, dataset_test ,dataset.classes\n",
        "def get_data_loaders(dataset_train, dataset_valid, dataset_test):\n",
        "    \"\"\"\n",
        "    Prepares the training and validation data loaders.\n",
        "    :param dataset_train: The training dataset.\n",
        "    :param dataset_valid: The validation dataset.\n",
        "    Returns the training and validation data loaders.\n",
        "    \"\"\"\n",
        "    train_loader = DataLoader(\n",
        "        dataset_train, batch_size=BATCH_SIZE, \n",
        "        shuffle=True, num_workers=NUM_WORKERS\n",
        "    )\n",
        "    valid_loader = DataLoader(\n",
        "        dataset_valid, batch_size=BATCH_SIZE, \n",
        "        shuffle=False, num_workers=NUM_WORKERS\n",
        "    )\n",
        "    test_loader = DataLoader(\n",
        "        dataset_test, batch_size=BATCH_SIZE, \n",
        "        shuffle=False, num_workers=NUM_WORKERS\n",
        "    )\n",
        "    return train_loader, valid_loader, test_loader"
      ]
    },
    {
      "cell_type": "code",
      "execution_count": 18,
      "metadata": {},
      "outputs": [],
      "source": [
        "# dataset_train, dataset_valid, dataset_test , classes = get_datasets(pretrained = True)"
      ]
    },
    {
      "cell_type": "code",
      "execution_count": 19,
      "metadata": {},
      "outputs": [],
      "source": [
        "# classes\n",
        "# len(dataset_train), len(dataset_test)"
      ]
    },
    {
      "cell_type": "code",
      "execution_count": 20,
      "metadata": {
        "id": "PR5UcRXGOBS0"
      },
      "outputs": [],
      "source": [
        "import torchvision.models as models\n",
        "import torch.nn as nn\n",
        "def build_model(pretrained=True, fine_tune=True, num_classes=10):\n",
        "    if pretrained:\n",
        "        print('[INFO]: Loading pre-trained weights')\n",
        "    else:\n",
        "        print('[INFO]: Not loading pre-trained weights')\n",
        "    model = models.efficientnet_b0(pretrained=pretrained)\n",
        "    if fine_tune:\n",
        "        print('[INFO]: Fine-tuning all layers...')\n",
        "        for params in model.parameters():\n",
        "            params.requires_grad = True\n",
        "    elif not fine_tune:\n",
        "        print('[INFO]: Freezing hidden layers...')\n",
        "        for params in model.parameters():\n",
        "            params.requires_grad = False\n",
        "    # Change the final classification head.\n",
        "    model.classifier[1] = nn.Linear(in_features=1280, out_features=num_classes)\n",
        "    return model"
      ]
    },
    {
      "cell_type": "code",
      "execution_count": 21,
      "metadata": {
        "id": "vHi1eao6OF0N"
      },
      "outputs": [],
      "source": [
        "import torch\n",
        "import argparse\n",
        "import torch.nn as nn\n",
        "import torch.optim as optim\n",
        "import time\n",
        "from tqdm import tqdm\n",
        "# from model import build_model\n",
        "# from datasets import get_datasets, get_data_loaders\n",
        "# from utils import save_model, save_plots\n",
        "# construct the argument parser\n",
        "# parser = argparse.ArgumentParser()\n",
        "# parser.add_argument(\n",
        "#     '-e', '--epochs', type=int, default=20,\n",
        "#     help='Number of epochs to train our network for'\n",
        "# )\n",
        "# parser.add_argument(\n",
        "#     '-pt', '--pretrained', action='store_true',\n",
        "#     help='Whether to use pretrained weights or not'\n",
        "# )\n",
        "# parser.add_argument(\n",
        "#     '-lr', '--learning-rate', type=float,\n",
        "#     dest='learning_rate', default=0.0001,\n",
        "#     help='Learning rate for training the model'\n",
        "# )\n",
        "# args = vars(parser.parse_args())\n",
        "args = {'epochs': 20, \"pretrained\": True, 'learning_rate': 0.0001, 'finetune': True}"
      ]
    },
    {
      "cell_type": "code",
      "execution_count": 22,
      "metadata": {
        "id": "tw7pVRJ0OJeQ"
      },
      "outputs": [],
      "source": [
        "# Training function.\n",
        "def train(model, trainloader, optimizer, criterion):\n",
        "    model.train()\n",
        "    print('Training')\n",
        "    train_running_loss = 0.0\n",
        "    train_running_correct = 0\n",
        "    counter = 0\n",
        "    device = 'cuda'\n",
        "    criterion.to(device)\n",
        "    for i, data in tqdm(enumerate(trainloader), total=len(trainloader)):\n",
        "        counter += 1\n",
        "        image, labels = data\n",
        "        image = image.to(device)\n",
        "        labels = labels.to(device)\n",
        "        optimizer.zero_grad()\n",
        "        # Forward pass.\n",
        "        outputs = model(image)\n",
        "        # Calculate the loss.\n",
        "        loss = criterion(outputs, labels)\n",
        "        train_running_loss += loss.item()\n",
        "        # Calculate the accuracy.\n",
        "        _, preds = torch.max(outputs.data, 1)\n",
        "        train_running_correct += (preds == labels).sum().item()\n",
        "        # Backpropagation\n",
        "        loss.backward()\n",
        "        # Update the weights.\n",
        "        optimizer.step()\n",
        "    \n",
        "    # Loss and accuracy for the complete epoch.\n",
        "    epoch_loss = train_running_loss / counter\n",
        "    epoch_acc = 100. * (train_running_correct / len(trainloader.dataset))\n",
        "    return epoch_loss, epoch_acc"
      ]
    },
    {
      "cell_type": "code",
      "execution_count": 23,
      "metadata": {
        "id": "K9qBipk4ONdz"
      },
      "outputs": [],
      "source": [
        "# Validation function.\n",
        "def validate(model, testloader, criterion):\n",
        "    device = 'cuda'\n",
        "    criterion.to(device)\n",
        "    model.eval()\n",
        "    print('Validation')\n",
        "    valid_running_loss = 0.0\n",
        "    valid_running_correct = 0\n",
        "    counter = 0\n",
        "    with torch.no_grad():\n",
        "        for i, data in tqdm(enumerate(testloader), total=len(testloader)):\n",
        "            counter += 1\n",
        "            \n",
        "            image, labels = data\n",
        "            image = image.to(device)\n",
        "            labels = labels.to(device)\n",
        "            # Forward pass.\n",
        "            outputs = model(image)\n",
        "            # Calculate the loss.\n",
        "            loss = criterion(outputs, labels)\n",
        "            valid_running_loss += loss.item()\n",
        "            # Calculate the accuracy.\n",
        "            _, preds = torch.max(outputs.data, 1)\n",
        "            valid_running_correct += (preds == labels).sum().item()\n",
        "        \n",
        "    # Loss and accuracy for the complete epoch.\n",
        "    epoch_loss = valid_running_loss / counter\n",
        "    epoch_acc = 100. * (valid_running_correct / len(testloader.dataset))\n",
        "    return epoch_loss, epoch_acc"
      ]
    },
    {
      "cell_type": "code",
      "execution_count": 24,
      "metadata": {
        "id": "HfzYymkZORiA"
      },
      "outputs": [
        {
          "name": "stdout",
          "output_type": "stream",
          "text": [
            "Loading older shuffle array\n",
            "[INFO]: Number of training images: 18602\n",
            "[INFO]: Number of validation images: 6200\n",
            "[INFO]: Class names: ['anger', 'contempt', 'disgust', 'fear', 'happy', 'neutral', 'sad', 'surprise']\n",
            "\n",
            "Computation device: cuda\n",
            "Learning rate: 0.0001\n",
            "Epochs to train for: 20\n",
            "\n",
            "[INFO]: Loading pre-trained weights\n",
            "[INFO]: Fine-tuning all layers...\n"
          ]
        },
        {
          "name": "stderr",
          "output_type": "stream",
          "text": [
            "/home/dinh/anaconda3/envs/torch/lib/python3.9/site-packages/torchvision/models/_utils.py:208: UserWarning: The parameter 'pretrained' is deprecated since 0.13 and may be removed in the future, please use 'weights' instead.\n",
            "  warnings.warn(\n",
            "/home/dinh/anaconda3/envs/torch/lib/python3.9/site-packages/torchvision/models/_utils.py:223: UserWarning: Arguments other than a weight enum or `None` for 'weights' are deprecated since 0.13 and may be removed in the future. The current behavior is equivalent to passing `weights=EfficientNet_B0_Weights.IMAGENET1K_V1`. You can also use `weights=EfficientNet_B0_Weights.DEFAULT` to get the most up-to-date weights.\n",
            "  warnings.warn(msg)\n"
          ]
        },
        {
          "name": "stdout",
          "output_type": "stream",
          "text": [
            "4,017,796 total parameters.\n",
            "4,017,796 training parameters.\n",
            "[INFO]: Epoch 1 of 20\n",
            "Training\n"
          ]
        },
        {
          "name": "stderr",
          "output_type": "stream",
          "text": [
            "100%|██████████| 1163/1163 [02:25<00:00,  7.98it/s]"
          ]
        },
        {
          "name": "stdout",
          "output_type": "stream",
          "text": [
            "Validation\n"
          ]
        },
        {
          "name": "stderr",
          "output_type": "stream",
          "text": [
            "\n",
            "100%|██████████| 388/388 [00:22<00:00, 16.98it/s]\n"
          ]
        },
        {
          "name": "stdout",
          "output_type": "stream",
          "text": [
            "Training loss: 1.262, training acc: 52.570\n",
            "Validation loss: 0.931, validation acc: 64.710\n",
            "--------------------------------------------------\n",
            "Writing new state dict\n",
            "New best accuracy 64.70967741935483 \n",
            "\n",
            "[INFO]: Epoch 2 of 20\n",
            "Training\n"
          ]
        },
        {
          "name": "stderr",
          "output_type": "stream",
          "text": [
            "100%|██████████| 1163/1163 [02:21<00:00,  8.22it/s]"
          ]
        },
        {
          "name": "stdout",
          "output_type": "stream",
          "text": [
            "Validation\n"
          ]
        },
        {
          "name": "stderr",
          "output_type": "stream",
          "text": [
            "\n",
            "100%|██████████| 388/388 [00:25<00:00, 15.11it/s]\n"
          ]
        },
        {
          "name": "stdout",
          "output_type": "stream",
          "text": [
            "Training loss: 0.904, training acc: 66.455\n",
            "Validation loss: 0.868, validation acc: 67.774\n",
            "--------------------------------------------------\n",
            "Writing new state dict\n",
            "New best accuracy 67.7741935483871 \n",
            "\n",
            "[INFO]: Epoch 3 of 20\n",
            "Training\n"
          ]
        },
        {
          "name": "stderr",
          "output_type": "stream",
          "text": [
            "100%|██████████| 1163/1163 [02:14<00:00,  8.66it/s]"
          ]
        },
        {
          "name": "stdout",
          "output_type": "stream",
          "text": [
            "Validation\n"
          ]
        },
        {
          "name": "stderr",
          "output_type": "stream",
          "text": [
            "\n",
            "100%|██████████| 388/388 [00:20<00:00, 18.57it/s]\n"
          ]
        },
        {
          "name": "stdout",
          "output_type": "stream",
          "text": [
            "Training loss: 0.786, training acc: 71.299\n",
            "Validation loss: 0.805, validation acc: 69.887\n",
            "--------------------------------------------------\n",
            "Writing new state dict\n",
            "New best accuracy 69.88709677419355 \n",
            "\n",
            "[INFO]: Epoch 4 of 20\n",
            "Training\n"
          ]
        },
        {
          "name": "stderr",
          "output_type": "stream",
          "text": [
            "100%|██████████| 1163/1163 [02:14<00:00,  8.63it/s]"
          ]
        },
        {
          "name": "stdout",
          "output_type": "stream",
          "text": [
            "Validation\n"
          ]
        },
        {
          "name": "stderr",
          "output_type": "stream",
          "text": [
            "\n",
            "100%|██████████| 388/388 [00:21<00:00, 18.43it/s]\n"
          ]
        },
        {
          "name": "stdout",
          "output_type": "stream",
          "text": [
            "Training loss: 0.691, training acc: 74.675\n",
            "Validation loss: 0.827, validation acc: 69.806\n",
            "--------------------------------------------------\n",
            "[INFO]: Epoch 5 of 20\n",
            "Training\n"
          ]
        },
        {
          "name": "stderr",
          "output_type": "stream",
          "text": [
            "100%|██████████| 1163/1163 [02:14<00:00,  8.62it/s]"
          ]
        },
        {
          "name": "stdout",
          "output_type": "stream",
          "text": [
            "Validation\n"
          ]
        },
        {
          "name": "stderr",
          "output_type": "stream",
          "text": [
            "\n",
            "100%|██████████| 388/388 [00:20<00:00, 18.69it/s]\n"
          ]
        },
        {
          "name": "stdout",
          "output_type": "stream",
          "text": [
            "Training loss: 0.603, training acc: 77.868\n",
            "Validation loss: 0.873, validation acc: 69.210\n",
            "--------------------------------------------------\n",
            "[INFO]: Epoch 6 of 20\n",
            "Training\n"
          ]
        },
        {
          "name": "stderr",
          "output_type": "stream",
          "text": [
            "100%|██████████| 1163/1163 [02:14<00:00,  8.62it/s]"
          ]
        },
        {
          "name": "stdout",
          "output_type": "stream",
          "text": [
            "Validation\n"
          ]
        },
        {
          "name": "stderr",
          "output_type": "stream",
          "text": [
            "\n",
            "100%|██████████| 388/388 [00:20<00:00, 18.56it/s]\n"
          ]
        },
        {
          "name": "stdout",
          "output_type": "stream",
          "text": [
            "Training loss: 0.519, training acc: 81.147\n",
            "Validation loss: 0.880, validation acc: 70.500\n",
            "--------------------------------------------------\n",
            "Writing new state dict\n",
            "New best accuracy 70.5 \n",
            "\n",
            "[INFO]: Epoch 7 of 20\n",
            "Training\n"
          ]
        },
        {
          "name": "stderr",
          "output_type": "stream",
          "text": [
            "100%|██████████| 1163/1163 [02:16<00:00,  8.50it/s]"
          ]
        },
        {
          "name": "stdout",
          "output_type": "stream",
          "text": [
            "Validation\n"
          ]
        },
        {
          "name": "stderr",
          "output_type": "stream",
          "text": [
            "\n",
            "100%|██████████| 388/388 [00:23<00:00, 16.61it/s]\n"
          ]
        },
        {
          "name": "stdout",
          "output_type": "stream",
          "text": [
            "Training loss: 0.445, training acc: 84.045\n",
            "Validation loss: 0.916, validation acc: 70.161\n",
            "--------------------------------------------------\n",
            "[INFO]: Epoch 8 of 20\n",
            "Training\n"
          ]
        },
        {
          "name": "stderr",
          "output_type": "stream",
          "text": [
            "100%|██████████| 1163/1163 [02:15<00:00,  8.59it/s]"
          ]
        },
        {
          "name": "stdout",
          "output_type": "stream",
          "text": [
            "Validation\n"
          ]
        },
        {
          "name": "stderr",
          "output_type": "stream",
          "text": [
            "\n",
            "100%|██████████| 388/388 [00:20<00:00, 18.71it/s]\n"
          ]
        },
        {
          "name": "stdout",
          "output_type": "stream",
          "text": [
            "Training loss: 0.384, training acc: 86.136\n",
            "Validation loss: 1.003, validation acc: 69.935\n",
            "--------------------------------------------------\n",
            "[INFO]: Epoch 9 of 20\n",
            "Training\n"
          ]
        },
        {
          "name": "stderr",
          "output_type": "stream",
          "text": [
            "100%|██████████| 1163/1163 [02:15<00:00,  8.60it/s]"
          ]
        },
        {
          "name": "stdout",
          "output_type": "stream",
          "text": [
            "Validation\n"
          ]
        },
        {
          "name": "stderr",
          "output_type": "stream",
          "text": [
            "\n",
            "100%|██████████| 388/388 [00:20<00:00, 18.74it/s]\n"
          ]
        },
        {
          "name": "stdout",
          "output_type": "stream",
          "text": [
            "Training loss: 0.341, training acc: 87.867\n",
            "Validation loss: 1.036, validation acc: 70.306\n",
            "--------------------------------------------------\n",
            "[INFO]: Epoch 10 of 20\n",
            "Training\n"
          ]
        },
        {
          "name": "stderr",
          "output_type": "stream",
          "text": [
            "100%|██████████| 1163/1163 [02:15<00:00,  8.60it/s]"
          ]
        },
        {
          "name": "stdout",
          "output_type": "stream",
          "text": [
            "Validation\n"
          ]
        },
        {
          "name": "stderr",
          "output_type": "stream",
          "text": [
            "\n",
            "100%|██████████| 388/388 [00:21<00:00, 18.46it/s]\n"
          ]
        },
        {
          "name": "stdout",
          "output_type": "stream",
          "text": [
            "Training loss: 0.287, training acc: 89.802\n",
            "Validation loss: 1.096, validation acc: 69.323\n",
            "--------------------------------------------------\n",
            "[INFO]: Epoch 11 of 20\n",
            "Training\n"
          ]
        },
        {
          "name": "stderr",
          "output_type": "stream",
          "text": [
            "100%|██████████| 1163/1163 [02:15<00:00,  8.60it/s]"
          ]
        },
        {
          "name": "stdout",
          "output_type": "stream",
          "text": [
            "Validation\n"
          ]
        },
        {
          "name": "stderr",
          "output_type": "stream",
          "text": [
            "\n",
            "100%|██████████| 388/388 [00:21<00:00, 18.43it/s]\n"
          ]
        },
        {
          "name": "stdout",
          "output_type": "stream",
          "text": [
            "Training loss: 0.245, training acc: 91.453\n",
            "Validation loss: 1.168, validation acc: 69.645\n",
            "--------------------------------------------------\n",
            "[INFO]: Epoch 12 of 20\n",
            "Training\n"
          ]
        },
        {
          "name": "stderr",
          "output_type": "stream",
          "text": [
            "100%|██████████| 1163/1163 [02:15<00:00,  8.58it/s]"
          ]
        },
        {
          "name": "stdout",
          "output_type": "stream",
          "text": [
            "Validation\n"
          ]
        },
        {
          "name": "stderr",
          "output_type": "stream",
          "text": [
            "\n",
            "100%|██████████| 388/388 [00:21<00:00, 17.86it/s]\n"
          ]
        },
        {
          "name": "stdout",
          "output_type": "stream",
          "text": [
            "Training loss: 0.225, training acc: 91.990\n",
            "Validation loss: 1.234, validation acc: 68.661\n",
            "--------------------------------------------------\n",
            "[INFO]: Epoch 13 of 20\n",
            "Training\n"
          ]
        },
        {
          "name": "stderr",
          "output_type": "stream",
          "text": [
            "100%|██████████| 1163/1163 [02:17<00:00,  8.47it/s]"
          ]
        },
        {
          "name": "stdout",
          "output_type": "stream",
          "text": [
            "Validation\n"
          ]
        },
        {
          "name": "stderr",
          "output_type": "stream",
          "text": [
            "\n",
            "100%|██████████| 388/388 [00:23<00:00, 16.42it/s]\n"
          ]
        },
        {
          "name": "stdout",
          "output_type": "stream",
          "text": [
            "Training loss: 0.196, training acc: 92.990\n",
            "Validation loss: 1.245, validation acc: 69.774\n",
            "--------------------------------------------------\n",
            "[INFO]: Epoch 14 of 20\n",
            "Training\n"
          ]
        },
        {
          "name": "stderr",
          "output_type": "stream",
          "text": [
            "100%|██████████| 1163/1163 [02:16<00:00,  8.54it/s]"
          ]
        },
        {
          "name": "stdout",
          "output_type": "stream",
          "text": [
            "Validation\n"
          ]
        },
        {
          "name": "stderr",
          "output_type": "stream",
          "text": [
            "\n",
            "100%|██████████| 388/388 [00:21<00:00, 18.44it/s]\n"
          ]
        },
        {
          "name": "stdout",
          "output_type": "stream",
          "text": [
            "Training loss: 0.185, training acc: 93.517\n",
            "Validation loss: 1.285, validation acc: 69.565\n",
            "--------------------------------------------------\n",
            "[INFO]: Epoch 15 of 20\n",
            "Training\n"
          ]
        },
        {
          "name": "stderr",
          "output_type": "stream",
          "text": [
            "100%|██████████| 1163/1163 [02:16<00:00,  8.55it/s]"
          ]
        },
        {
          "name": "stdout",
          "output_type": "stream",
          "text": [
            "Validation\n"
          ]
        },
        {
          "name": "stderr",
          "output_type": "stream",
          "text": [
            "\n",
            "100%|██████████| 388/388 [00:23<00:00, 16.77it/s]\n"
          ]
        },
        {
          "name": "stdout",
          "output_type": "stream",
          "text": [
            "Training loss: 0.168, training acc: 94.194\n",
            "Validation loss: 1.299, validation acc: 69.226\n",
            "--------------------------------------------------\n",
            "[INFO]: Epoch 16 of 20\n",
            "Training\n"
          ]
        },
        {
          "name": "stderr",
          "output_type": "stream",
          "text": [
            "100%|██████████| 1163/1163 [02:15<00:00,  8.58it/s]"
          ]
        },
        {
          "name": "stdout",
          "output_type": "stream",
          "text": [
            "Validation\n"
          ]
        },
        {
          "name": "stderr",
          "output_type": "stream",
          "text": [
            "\n",
            "100%|██████████| 388/388 [00:21<00:00, 18.19it/s]\n"
          ]
        },
        {
          "name": "stdout",
          "output_type": "stream",
          "text": [
            "Training loss: 0.151, training acc: 94.786\n",
            "Validation loss: 1.403, validation acc: 69.661\n",
            "--------------------------------------------------\n",
            "[INFO]: Epoch 17 of 20\n",
            "Training\n"
          ]
        },
        {
          "name": "stderr",
          "output_type": "stream",
          "text": [
            "100%|██████████| 1163/1163 [02:15<00:00,  8.57it/s]"
          ]
        },
        {
          "name": "stdout",
          "output_type": "stream",
          "text": [
            "Validation\n"
          ]
        },
        {
          "name": "stderr",
          "output_type": "stream",
          "text": [
            "\n",
            "100%|██████████| 388/388 [00:22<00:00, 17.57it/s]\n"
          ]
        },
        {
          "name": "stdout",
          "output_type": "stream",
          "text": [
            "Training loss: 0.145, training acc: 94.904\n",
            "Validation loss: 1.368, validation acc: 69.177\n",
            "--------------------------------------------------\n",
            "[INFO]: Epoch 18 of 20\n",
            "Training\n"
          ]
        },
        {
          "name": "stderr",
          "output_type": "stream",
          "text": [
            "100%|██████████| 1163/1163 [02:16<00:00,  8.55it/s]"
          ]
        },
        {
          "name": "stdout",
          "output_type": "stream",
          "text": [
            "Validation\n"
          ]
        },
        {
          "name": "stderr",
          "output_type": "stream",
          "text": [
            "\n",
            "100%|██████████| 388/388 [00:21<00:00, 18.30it/s]\n"
          ]
        },
        {
          "name": "stdout",
          "output_type": "stream",
          "text": [
            "Training loss: 0.132, training acc: 95.226\n",
            "Validation loss: 1.449, validation acc: 68.903\n",
            "--------------------------------------------------\n",
            "[INFO]: Epoch 19 of 20\n",
            "Training\n"
          ]
        },
        {
          "name": "stderr",
          "output_type": "stream",
          "text": [
            "100%|██████████| 1163/1163 [02:15<00:00,  8.59it/s]"
          ]
        },
        {
          "name": "stdout",
          "output_type": "stream",
          "text": [
            "Validation\n"
          ]
        },
        {
          "name": "stderr",
          "output_type": "stream",
          "text": [
            "\n",
            "100%|██████████| 388/388 [00:21<00:00, 18.28it/s]\n"
          ]
        },
        {
          "name": "stdout",
          "output_type": "stream",
          "text": [
            "Training loss: 0.124, training acc: 95.710\n",
            "Validation loss: 1.521, validation acc: 70.016\n",
            "--------------------------------------------------\n",
            "[INFO]: Epoch 20 of 20\n",
            "Training\n"
          ]
        },
        {
          "name": "stderr",
          "output_type": "stream",
          "text": [
            "100%|██████████| 1163/1163 [02:16<00:00,  8.54it/s]"
          ]
        },
        {
          "name": "stdout",
          "output_type": "stream",
          "text": [
            "Validation\n"
          ]
        },
        {
          "name": "stderr",
          "output_type": "stream",
          "text": [
            "\n",
            "100%|██████████| 388/388 [00:22<00:00, 16.96it/s]\n"
          ]
        },
        {
          "name": "stdout",
          "output_type": "stream",
          "text": [
            "Training loss: 0.121, training acc: 95.807\n",
            "Validation loss: 1.556, validation acc: 68.968\n",
            "--------------------------------------------------\n",
            "TRAINING COMPLETE\n"
          ]
        },
        {
          "data": {
            "image/png": "[encoded data removed]",
            "text/plain": [
              "<Figure size 720x504 with 1 Axes>"
            ]
          },
          "metadata": {
            "needs_background": "light"
          },
          "output_type": "display_data"
        },
        {
          "data": {
            "image/png": "[encoded data removed]",
            "text/plain": [
              "<Figure size 720x504 with 1 Axes>"
            ]
          },
          "metadata": {
            "needs_background": "light"
          },
          "output_type": "display_data"
        }
      ],
      "source": [
        "# if __name__ == '__main__':\n",
        "\n",
        "# Load the training and validation datasets.\n",
        "dataset_train, dataset_valid, dataset_test , dataset_classes = get_datasets(args['pretrained'])\n",
        "print(f\"[INFO]: Number of training images: {len(dataset_train)}\")\n",
        "print(f\"[INFO]: Number of validation images: {len(dataset_valid)}\")\n",
        "print(f\"[INFO]: Class names: {dataset_classes}\\n\")\n",
        "# Load the training and validation data loaders.\n",
        "train_loader, valid_loader, test_loader = get_data_loaders(dataset_train, dataset_valid, dataset_test)\n",
        "# Learning_parameters. \n",
        "lr = args['learning_rate']\n",
        "epochs = args['epochs']\n",
        "device = ('cuda' if torch.cuda.is_available() else 'cpu')\n",
        "print(f\"Computation device: {device}\")\n",
        "print(f\"Learning rate: {lr}\")\n",
        "print(f\"Epochs to train for: {epochs}\\n\")\n",
        "model = build_model(\n",
        "    pretrained=args['pretrained'], \n",
        "    fine_tune= args[\"finetune\"], \n",
        "    num_classes=len(dataset_classes)\n",
        ").to(device)\n",
        "\n",
        "# Total parameters and trainable parameters.\n",
        "total_params = sum(p.numel() for p in model.parameters())\n",
        "print(f\"{total_params:,} total parameters.\")\n",
        "total_trainable_params = sum(\n",
        "    p.numel() for p in model.parameters() if p.requires_grad)\n",
        "print(f\"{total_trainable_params:,} training parameters.\")\n",
        "# Optimizer.\n",
        "optimizer = optim.AdamW(model.parameters(), lr=lr)\n",
        "\n",
        "# get previous state dict \n",
        "if os.path.exists(os.path.join(ROOT_DIR,\"outputs/model_pretrained_best_valid_acc.pth\")):\n",
        "    print(\"Loading previous state\")\n",
        "    previous = torch.load(os.path.join(ROOT_DIR,\"outputs/model_pretrained_best_valid_acc.pth\"))\n",
        "    model.load_state_dict(previous[\"model_state_dict\"])\n",
        "    # optimizer.load_state_dict(previous[\"optimizer_state_dict\"])\n",
        "    best_valid_acc = previous[\"valid_acc\"]\n",
        "    print(\"best_valid_acc\", best_valid_acc)\n",
        "else:\n",
        "    os.makedirs(os.path.join(ROOT_DIR,\"outputs\"), exist_ok= True)\n",
        "    best_valid_acc = 0\n",
        "\n",
        "# Loss function.\n",
        "criterion = nn.CrossEntropyLoss()\n",
        "# Lists to keep track of losses and accuracies.\n",
        "train_loss, valid_loss = [], []\n",
        "train_acc, valid_acc = [], []\n",
        "\n",
        "# Start the training.\n",
        "for epoch in range(epochs):\n",
        "    print(f\"[INFO]: Epoch {epoch+1} of {epochs}\")\n",
        "    train_epoch_loss, train_epoch_acc = train(model, train_loader, \n",
        "                                            optimizer, criterion)\n",
        "    valid_epoch_loss, valid_epoch_acc = validate(model, valid_loader,  \n",
        "                                                criterion)\n",
        "    train_loss.append(train_epoch_loss)\n",
        "    valid_loss.append(valid_epoch_loss)\n",
        "    train_acc.append(train_epoch_acc)\n",
        "    valid_acc.append(valid_epoch_acc)\n",
        "    print(f\"Training loss: {train_epoch_loss:.3f}, training acc: {train_epoch_acc:.3f}\")\n",
        "    print(f\"Validation loss: {valid_epoch_loss:.3f}, validation acc: {valid_epoch_acc:.3f}\")\n",
        "    print('-'*50)\n",
        "    time.sleep(5)\n",
        "    \n",
        "    # Save the trained model weights.\n",
        "    if valid_epoch_acc > best_valid_acc:\n",
        "        print(\"Writing new state dict\")\n",
        "        save_model(epoch, model, optimizer, train_loss, valid_loss, train_epoch_acc, valid_epoch_acc, \n",
        "                    args['pretrained'], args[\"finetune\"])\n",
        "        best_valid_acc = valid_epoch_acc\n",
        "        print(\"New best accuracy\",best_valid_acc,\"\\n\")\n",
        "# Save the loss and accuracy plots.\n",
        "save_plots(train_acc, valid_acc, train_loss, valid_loss, args['pretrained'])\n",
        "print('TRAINING COMPLETE')"
      ]
    },
    {
      "cell_type": "code",
      "execution_count": 25,
      "metadata": {},
      "outputs": [
        {
          "name": "stdout",
          "output_type": "stream",
          "text": [
            "Loading older shuffle array\n",
            "[INFO]: Loading pre-trained weights\n",
            "[INFO]: Fine-tuning all layers...\n",
            "Validation\n"
          ]
        },
        {
          "name": "stderr",
          "output_type": "stream",
          "text": [
            "100%|██████████| 388/388 [00:22<00:00, 16.99it/s]"
          ]
        },
        {
          "name": "stdout",
          "output_type": "stream",
          "text": [
            "Validation\n"
          ]
        },
        {
          "name": "stderr",
          "output_type": "stream",
          "text": [
            "\n",
            "100%|██████████| 388/388 [00:20<00:00, 18.50it/s]"
          ]
        },
        {
          "name": "stdout",
          "output_type": "stream",
          "text": [
            "Validation loss: 0.880, validation acc: 70.500\n",
            "Test loss: 0.867, test acc: 70.968\n"
          ]
        },
        {
          "name": "stderr",
          "output_type": "stream",
          "text": [
            "\n"
          ]
        }
      ],
      "source": [
        "# test \n",
        "dataset_train, dataset_valid, dataset_test , dataset_classes = get_datasets(args['pretrained'])\n",
        "train_loader, valid_loader, test_loader = get_data_loaders(dataset_train, dataset_valid, dataset_test)\n",
        "device = 'cuda'\n",
        "model = build_model(\n",
        "    pretrained=args['pretrained'], \n",
        "    fine_tune= args[\"finetune\"], \n",
        "    num_classes=len(dataset_classes)\n",
        ").to(device)\n",
        "best_state_dict = torch.load(\"outputs/model_pretrained_best_valid_acc.pth\")\n",
        "model.load_state_dict(best_state_dict[\"model_state_dict\"])\n",
        "valid_epoch_loss, valid_epoch_acc = validate(model, valid_loader, criterion)\n",
        "test_loss, test_acc = validate(model, test_loader, criterion)\n",
        "print(f\"Validation loss: {valid_epoch_loss:.3f}, validation acc: {valid_epoch_acc:.3f}\")\n",
        "print(f\"Test loss: {test_loss:.3f}, test acc: {test_acc:.3f}\")"
      ]
    },
    {
      "cell_type": "code",
      "execution_count": null,
      "metadata": {},
      "outputs": [],
      "source": []
    }
  ],
  "metadata": {
    "colab": {
      "provenance": []
    },
    "kernelspec": {
      "display_name": "torch",
      "language": "python",
      "name": "python3"
    },
    "language_info": {
      "codemirror_mode": {
        "name": "ipython",
        "version": 3
      },
      "file_extension": ".py",
      "mimetype": "text/x-python",
      "name": "python",
      "nbconvert_exporter": "python",
      "pygments_lexer": "ipython3",
      "version": "3.9.16"
    },
    "vscode": {
      "interpreter": {
        "hash": "66787975a91f03c16398f82493c344656e128f3d17fed0400db509681c5d020d"
      }
    }
  },
  "nbformat": 4,
  "nbformat_minor": 0
}
